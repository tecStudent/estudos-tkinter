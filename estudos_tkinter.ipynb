{
 "cells": [
  {
   "cell_type": "code",
   "execution_count": 16,
   "id": "e54b05d9",
   "metadata": {},
   "outputs": [],
   "source": [
    "import tkinter as tk\n",
    "\n",
    "janela = tk.Tk()\n",
    "janela.title(\"Janela principal\")\n",
    "\n",
    "#janela[\"bg\"] = \"green\"\n",
    "janela[\"background\"] = \"blue\"\n",
    "\n",
    "\n",
    "#largura X Altura + E(distancia do lado esquerdo) + T(distancia do topo)\n",
    "janela.geometry(\"500x300+200+200\")\n",
    "\n",
    "janela.mainloop()"
   ]
  },
  {
   "cell_type": "code",
   "execution_count": 23,
   "id": "65ef0cd6",
   "metadata": {},
   "outputs": [
    {
     "name": "stdout",
     "output_type": "stream",
     "text": [
      "bt_click\n",
      "bt_click\n"
     ]
    }
   ],
   "source": [
    "from tkinter import *\n",
    "\n",
    "\n",
    "def bt_click():\n",
    "    print(\"bt_click\")\n",
    "    \n",
    "    lb[\"text\"] = \"Ola mundo!\"\n",
    "\n",
    "janela = Tk()\n",
    "janela.geometry(\"300x300+200+200\")\n",
    "\n",
    "bt = Button(janela, width=20, text=\"ok\", command=bt_click)\n",
    "bt.place(x=100, y=100)\n",
    "\n",
    "lb = Label(janela, text=\"Hello word!\")\n",
    "lb.place(x=100, y=150)\n",
    "\n",
    "\n",
    "\n",
    "\n",
    "janela.mainloop()"
   ]
  },
  {
   "cell_type": "code",
   "execution_count": 40,
   "id": "8231a8eb",
   "metadata": {},
   "outputs": [
    {
     "name": "stdout",
     "output_type": "stream",
     "text": [
      "Botão 1\n",
      "Botão 2\n",
      "Botão 1\n",
      "Botão 2\n",
      "Botão 2\n",
      "Botão 1\n"
     ]
    }
   ],
   "source": [
    "from functools import partial\n",
    "from tkinter import *\n",
    "\n",
    "\n",
    "def button_click(botao):\n",
    "    print(botao[\"text\"])\n",
    "\n",
    "\n",
    "janela = Tk()\n",
    "\n",
    "bt1 = Button(janela, width=20, text=\"Botão 1\")\n",
    "bt1[\"command\"] = partial(button_click, bt1)\n",
    "bt1.place(x=80, y= 100)\n",
    "bt2 = Button(janela, width=20, text=\"Botão 2\")\n",
    "bt2[\"command\"] = partial(button_click, bt2)\n",
    "bt2.place(x=80, y=140)\n",
    "\n",
    "\n",
    "janela.geometry(\"300x300+200+200\")\n",
    "janela.mainloop()"
   ]
  },
  {
   "cell_type": "code",
   "execution_count": 58,
   "id": "a0802536",
   "metadata": {},
   "outputs": [
    {
     "name": "stdout",
     "output_type": "stream",
     "text": [
      "fbadfbab\n",
      "dggbvgafsvdv\n",
      "11111111\n"
     ]
    }
   ],
   "source": [
    "from tkinter import *\n",
    "\n",
    "\n",
    "def bt_onclick():\n",
    "    print(ed.get())\n",
    "    lb[\"text\"] = ed.get()\n",
    "\n",
    "\n",
    "janela = Tk()\n",
    "\n",
    "ed = Entry(janela, width=30)\n",
    "ed.place(x=60,y=100)\n",
    "\n",
    "bt = Button(janela, width=20, text=\"OK\", command=bt_onclick)\n",
    "bt.place(x=80, y=140)\n",
    "\n",
    "lb = Label(janela, text=\"Label\")\n",
    "lb.place(x=80, y=180)\n",
    "\n",
    "janela.geometry(\"300x300+300+300\")\n",
    "janela.mainloop()"
   ]
  },
  {
   "cell_type": "code",
   "execution_count": 66,
   "id": "9b8a8a21",
   "metadata": {},
   "outputs": [],
   "source": [
    "from tkinter import *\n",
    "\n",
    "def soma():\n",
    "    if(str(ed1.get()).isnumeric() and str(ed2.get()).isnumeric()):\n",
    "        lb[\"text\"] = int(ed1.get()) + int(ed2.get())\n",
    "    else:\n",
    "        lb[\"text\"] = \"Valores informado inválido\"\n",
    "\n",
    "\n",
    "janela = Tk()\n",
    "\n",
    "ed1 = Entry(janela, width=25)\n",
    "ed1.place(x=80, y=80)\n",
    "\n",
    "ed2 = Entry(janela, width=25)\n",
    "ed2.place(x=80, y=120)\n",
    "\n",
    "bt = Button(janela, width=20, text=\"Soma\", command=soma)\n",
    "bt.place(x=80, y=160)\n",
    "\n",
    "lb = Label(janela)\n",
    "lb.place(x=80, y=200)\n",
    "\n",
    "janela.geometry(\"300x300+200+200\")\n",
    "janela.mainloop()"
   ]
  },
  {
   "cell_type": "code",
   "execution_count": 70,
   "id": "31084178",
   "metadata": {},
   "outputs": [],
   "source": [
    "from tkinter import *\n",
    "\n",
    "janela = Tk()\n",
    "\n",
    "lb1 = Label(janela, text=\"Label 1\", bg=\"green\")\n",
    "lb2 = Label(janela, text=\"Label 2\", bg=\"red\")\n",
    "lb3 = Label(janela, text=\"Label 3\", bg=\"yellow\")\n",
    "lb4 = Label(janela, text=\"Label 4\", bg=\"blue\")\n",
    "\n",
    "lb2.pack(side=TOP)\n",
    "lb1.pack(side=LEFT)\n",
    "lb3.pack(side=RIGHT)\n",
    "lb4.pack(side=BOTTOM)\n",
    "\n",
    "janela.geometry(\"300x300+200+200\")\n",
    "janela.mainloop()"
   ]
  },
  {
   "cell_type": "code",
   "execution_count": 81,
   "id": "2cbbedb1",
   "metadata": {},
   "outputs": [],
   "source": [
    "from tkinter import *\n",
    "\n",
    "janela = Tk()\n",
    "\n",
    "lb1 = Label(janela, text=\"SIDE 1\", bg=\"green\")\n",
    "lb2 = Label(janela, text=\"SIDE 2\", bg=\"red\")\n",
    "lb3 = Label(janela, text=\"ANCHOR 1\", bg=\"yellow\")\n",
    "lb4 = Label(janela, text=\"ANCHOR 2\", bg=\"blue\")\n",
    "\n",
    "lb2.pack(side=LEFT)\n",
    "lb1.pack(side=LEFT)\n",
    "lb3.pack(anchor=NW)\n",
    "lb4.pack(anchor=SW)\n",
    "\n",
    "janela.geometry(\"300x300+200+200\")\n",
    "janela.mainloop()"
   ]
  },
  {
   "cell_type": "code",
   "execution_count": null,
   "id": "ae1e967e",
   "metadata": {},
   "outputs": [],
   "source": []
  }
 ],
 "metadata": {
  "kernelspec": {
   "display_name": "Python 3 (ipykernel)",
   "language": "python",
   "name": "python3"
  },
  "language_info": {
   "codemirror_mode": {
    "name": "ipython",
    "version": 3
   },
   "file_extension": ".py",
   "mimetype": "text/x-python",
   "name": "python",
   "nbconvert_exporter": "python",
   "pygments_lexer": "ipython3",
   "version": "3.9.7"
  }
 },
 "nbformat": 4,
 "nbformat_minor": 5
}
